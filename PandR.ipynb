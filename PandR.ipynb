{
 "cells": [
  {
   "cell_type": "markdown",
   "metadata": {},
   "source": [
    "### 处理our_dateset(合并通道,颜色反转,归一化)"
   ]
  },
  {
   "cell_type": "code",
   "execution_count": null,
   "metadata": {},
   "outputs": [],
   "source": [
    "\n",
    "import os\n",
    "import cv2\n",
    "\n",
    "src_path = \"dataset/CUHK/DATA_512/Test/gt\"\n",
    "tar_path = \"Results/AUPSNet_gt\"\n",
    "for file in os.listdir(src_path):\n",
    "    src = os.path.join(src_path,file)\n",
    "    tar = os.path.join(tar_path,file)\n",
    "    img = cv2.imread(src)\n",
    "    img = cv2.cvtColor(img,cv2.COLOR_BGR2GRAY)\n",
    "    cv2.imwrite(tar,img)"
   ]
  },
  {
   "source": [
    "### 绘制PR曲线"
   ],
   "cell_type": "markdown",
   "metadata": {}
  },
  {
   "cell_type": "code",
   "execution_count": null,
   "metadata": {},
   "outputs": [],
   "source": [
    "from PIL import Image\n",
    "import os\n",
    "import numpy as np\n",
    "import shutil\n",
    "import os\n",
    "import cv2 "
   ]
  },
  {
   "source": [
    "### 计算召回率和准确率"
   ],
   "cell_type": "markdown",
   "metadata": {}
  },
  {
   "cell_type": "code",
   "execution_count": null,
   "metadata": {},
   "outputs": [],
   "source": [
    "def PrLine(GT,result,thread):\n",
    "    \n",
    "    \n",
    "    GT_img = Image.open(GT)\n",
    "    W,H = GT_img.size\n",
    "    if H < W and W != 640:\n",
    "        GT_img = GT_img.resize((640,H))\n",
    "    \n",
    "    if H > W and H != 640:\n",
    "        GT_img = GT_img.resize((W,640))\n",
    "    \n",
    "    \n",
    "    result_img = Image.open(result)\n",
    "    result_img = result_img.resize((W,H))\n",
    "    kW,kH = result_img.size\n",
    "    if kH < kW and kW != 640:\n",
    "        result_img = result_img.resize((640,kH))\n",
    "    \n",
    "    if kH > kW and kH != 640:\n",
    "        Gresult_img = result_img.resize((kW,640))\n",
    "    \n",
    "    \n",
    "    GT_img = np.asarray(GT_img)\n",
    "    result_img = np.asarray(result_img)\n",
    "    \n",
    "    \n",
    "    GT_img = GT_img.astype(np.float)\n",
    "    result_img = result_img.astype(np.float)\n",
    "    #print(result_img)\n",
    "    \n",
    "    GT_img = (GT_img>0.5)\n",
    "    result_img = (result_img>thread) #32 64 96 128 160 192 224 254\n",
    "    \n",
    "    \n",
    "    U_img = GT_img*result_img\n",
    "    GT_num = GT_img.sum()\n",
    "    \n",
    "    \n",
    "    result_num = result_img.sum()\n",
    "    U_num = U_img.sum()\n",
    "    if result_num == 0:\n",
    "        result_num = 0.0000001\n",
    "    \n",
    "    if GT_num == 0:\n",
    "        GT_num = 0.0000001\n",
    "    \n",
    "    Precision = U_num/result_num\n",
    "    \n",
    "    Recall = U_num/GT_num\n",
    "    \n",
    "    \n",
    "    \n",
    "    return (Precision,Recall)\n",
    "\n",
    "\n",
    "def PRlist(GT_path,output_path):\n",
    "    num_list = os.listdir(GT_path)\n",
    "\n",
    "    P = []\n",
    "    R = []\n",
    "    \n",
    "    for thread in range(255):\n",
    "        \n",
    "        Precision_list = []\n",
    "        Recall_list = []\n",
    "        for p in num_list:\n",
    "            GT_img = os.path.join(GT_path, p) \n",
    "            result_img = os.path.join(output_path, p[:-4] + \".png\")\n",
    "            Pr,Re = PrLine(GT_img,result_img,thread)\n",
    "            Precision_list.append(Pr)\n",
    "            Recall_list.append(Re)\n",
    "            \n",
    "        P.append(np.mean(Precision_list))\n",
    "        R.append(np.mean(Recall_list))\n",
    "\n",
    "    return (P,R)"
   ]
  },
  {
   "source": [
    "### PR曲线绘制函数"
   ],
   "cell_type": "markdown",
   "metadata": {}
  },
  {
   "cell_type": "code",
   "execution_count": null,
   "metadata": {},
   "outputs": [],
   "source": [
    "%matplotlib notebook\n",
    "import matplotlib.pyplot as plt\n",
    "#from scipy.interpolate import curve_fit\n",
    "\n",
    "\n",
    "def drawPR(path,P_all,R_all,colors):\n",
    "    #colors = ['red','green','yellow','antiquewhite','darkorange','aqua','aquamarine','darkgreen','beige','bisque','black','blanchedalmond','blue','brown','burlywood','cadetblue','chartreuse','chocolate','coral'] #,'blueviolet'\n",
    "    for i in range(len(path)):\n",
    "        r_p = np.array(R_all[i]) \n",
    "        p_p = np.array(P_all[i])\n",
    "        r_p = r_p[:-1]\n",
    "        p_p = p_p[:-1]\n",
    "        plt.plot(r_p,p_p,label=path[i],color=colors[i])\n",
    "        \n",
    "\n",
    "    plt.xlabel('Recall')\n",
    "    plt.ylabel('Precison')\n",
    "    plt.legend(loc='lower right')\n",
    "    plt.savefig(\"PR Curve.png\");\n",
    "    plt.show()"
   ]
  },
  {
   "cell_type": "code",
   "execution_count": null,
   "metadata": {},
   "outputs": [],
   "source": [
    "GT_path = \"Results/GT/\"\n",
    "output_path = \"Results/\"\n",
    "\n",
    "#path = []\n",
    "#path = ['DC','Patch_DC','LinkNet_new','Unet_crf','Unet','MIUnet','DeFusionNet',\"AUSPNet\",'Chakrabarti','DBDF','DHDE','HiFST','JNB','KSFV','LBP','SVD','SS']\n",
    "path = ['DeFusionNet','DBDF','HiFST','JNB','LBP','SS']\n",
    "P_all = []\n",
    "R_all = []\n",
    "\n",
    "for pp in path:\n",
    "    Out_p = output_path + pp + '/'\n",
    "    \n",
    "    p,r = PRlist(GT_path,Out_p)\n",
    "    P_all.append(p)\n",
    "    R_all.append(r)\n",
    "\n",
    "#print(P_all)result_img,\n",
    "#print(R_all)"
   ]
  },
  {
   "cell_type": "code",
   "execution_count": null,
   "metadata": {},
   "outputs": [],
   "source": [
    "ourgt_path = \"Results/AUPSNet_gt/\"\n",
    "output_path = \"Results/AUPSNet_results/\"\n",
    "\n",
    "p,r = PRlist(ourgt_path,output_path)\n",
    "P_all.append(p)\n",
    "R_all.append(r)\n",
    "path.append(\"AUPSNet\")"
   ]
  },
  {
   "cell_type": "code",
   "execution_count": null,
   "metadata": {},
   "outputs": [],
   "source": [
    "ourgt_path = \"Results/BTBNet_gt/\"\n",
    "output_path = \"Results/BTBNet_results/\"\n",
    "\n",
    "p,r = PRlist(ourgt_path,output_path)\n",
    "P_all.append(p)\n",
    "R_all.append(r)\n",
    "path.append(\"BTBNet\")"
   ]
  },
  {
   "cell_type": "code",
   "execution_count": null,
   "metadata": {},
   "outputs": [],
   "source": [
    "ourgt_path = \"Results/CENet_gt/\"\n",
    "output_path = \"Results/CENet_results/\"\n",
    "\n",
    "p,r = PRlist(ourgt_path,output_path)\n",
    "P_all.append(p)\n",
    "R_all.append(r)\n",
    "path.append(\"CENet\")"
   ]
  },
  {
   "cell_type": "code",
   "execution_count": null,
   "metadata": {
    "scrolled": false
   },
   "outputs": [],
   "source": [
    "colors = ['red','green','yellow','darkorange','aqua','darkgreen','blue','brown','burlywood','cadetblue','chartreuse','chocolate','coral'] #,'blueviolet'\n",
    "drawPR(path,P_all,R_all, colors)\n",
    "print(len(P_all))"
   ]
  },
  {
   "cell_type": "markdown",
   "metadata": {},
   "source": [
    "###挑选训练集中的gt"
   ]
  },
  {
   "cell_type": "code",
   "execution_count": null,
   "metadata": {},
   "outputs": [],
   "source": []
  },
  {
   "cell_type": "code",
   "execution_count": null,
   "metadata": {},
   "outputs": [],
   "source": [
    "'''\n",
    "import shutil\n",
    "GT_path = \"/home/ailab/data1/gwl/模糊检测/Unet/data/tt/data/DUT_GT/\"\n",
    "Out_p = \"/home/ailab/data1/gwl/U-2-Net/test_data/DUT_test_source/\"\n",
    "copy_path = \"/home/ailab/data1/gwl/U-2-Net/test_data/DUT_test_gt/\"\n",
    "\n",
    "for file in os.listdir(Out_p):\n",
    "    tar = os.path.join(GT_path,file[:-3]+\"png\")\n",
    "    #img = cv2.imread(tar)\n",
    "    #img = 255 - cv2.cvtColor(img,cv2.COLOR_BGR2GRAY)\n",
    "    #cv2.imwrite(os.path.join(copy_path,file),img)\n",
    "    shutil.copyfile(tar,os.path.join(copy_path,file[:-3]+\"png\"))\n",
    "    \n"
   ]
  }
 ],
 "metadata": {
  "kernelspec": {
   "name": "python362jvsc74a57bd06f165bb1e555a43300990f658dcccca5f9f902824019afd7cfad5608a06ae25d",
   "display_name": "Python 3.6.2 64-bit ('blue_detection': conda)"
  },
  "language_info": {
   "codemirror_mode": {
    "name": "ipython",
    "version": 3
   },
   "file_extension": ".py",
   "mimetype": "text/x-python",
   "name": "python",
   "nbconvert_exporter": "python",
   "pygments_lexer": "ipython3",
   "version": "3.6.2"
  }
 },
 "nbformat": 4,
 "nbformat_minor": 2
}