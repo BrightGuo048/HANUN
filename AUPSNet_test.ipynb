{
 "cells": [
  {
   "cell_type": "code",
   "execution_count": 1,
   "metadata": {},
   "outputs": [],
   "source": [
    "import os\n",
    "os.environ[\"CUDA_VISIBLE_DEVICES\"] = \"0\"\n",
    "from skimage import io, transform\n",
    "import torch\n",
    "import torchvision\n",
    "from torch.autograd import Variable\n",
    "import torch.nn as nn\n",
    "import torch.nn.functional as F\n",
    "from torch.utils.data import Dataset, DataLoader\n",
    "from torchvision import transforms#, utils\n",
    "# import torch.optim as optim\n",
    "\n",
    "import numpy as np\n",
    "from PIL import Image\n",
    "import glob\n",
    "\n",
    "from data_loader import RescaleT\n",
    "from data_loader import ToTensor\n",
    "from data_loader import ToTensorLab\n",
    "from data_loader import SalObjDataset\n",
    "\n",
    "from model import AUPSNet\n",
    "from model import u2net"
   ]
  },
  {
   "cell_type": "code",
   "execution_count": 2,
   "metadata": {},
   "outputs": [],
   "source": [
    "# normalize the predicted SOD probability map\n",
    "def normPRED(d):\n",
    "    ma = torch.max(d)\n",
    "    mi = torch.min(d)\n",
    "\n",
    "    dn = (d-mi)/(ma-mi)\n",
    "\n",
    "    return dn"
   ]
  },
  {
   "cell_type": "code",
   "execution_count": 3,
   "metadata": {},
   "outputs": [],
   "source": [
    "def save_output(image_name,pred,d_dir):\n",
    "\n",
    "    predict = pred\n",
    "    predict = predict.squeeze()\n",
    "    predict_np = predict.cpu().data.numpy()\n",
    "\n",
    "    im = Image.fromarray(predict_np*255).convert('RGB')\n",
    "    img_name = image_name.split(os.sep)[-1]\n",
    "    image = io.imread(image_name)\n",
    "    imo = im.resize((image.shape[1],image.shape[0]),resample=Image.BILINEAR)\n",
    "    pb_np = np.array(imo)\n",
    "\n",
    "    aaa = img_name.split(\".\")\n",
    "    bbb = aaa[0:-1]\n",
    "    imidx = bbb[0]\n",
    "    for i in range(1,len(bbb)):\n",
    "        imidx = imidx + \".\" + bbb[i]\n",
    "\n",
    "    imo.save(d_dir+imidx+'.png')"
   ]
  },
  {
   "cell_type": "code",
   "execution_count": 4,
   "metadata": {},
   "outputs": [],
   "source": [
    "def main():\n",
    "\n",
    "    # --------- 1. get image path and name ---------\n",
    "    image_dir = \"In-kind_shooting/src/\"\n",
    "    prediction_dir = \"In-kind_shooting/res/\"\n",
    "    model_dir = \"/mnt/saved_models/U2Net/u2net_bce_itr_21750_train_0.227544_tar_0.017907.pth\"\n",
    "    img_name_list = glob.glob(image_dir + os.sep + '*')\n",
    "    print(img_name_list)\n",
    "\n",
    "    # --------- 2. dataloader ---------\n",
    "    #1. dataloader\n",
    "    test_salobj_dataset = SalObjDataset(img_name_list = img_name_list,\n",
    "                                        lbl_name_list = [],\n",
    "                                        transform=transforms.Compose([RescaleT(320),\n",
    "                                                                      ToTensorLab(flag=0)])\n",
    "                                        )\n",
    "    test_salobj_dataloader = DataLoader(test_salobj_dataset,\n",
    "                                        batch_size=1,\n",
    "                                        shuffle=False,\n",
    "                                        num_workers=1)\n",
    "\n",
    "    # --------- 3. model define ---------\n",
    "\n",
    "    net = u2net.U2NET(3,1)\n",
    "    #net = nn.DataParallel(net) # multi-GPU\n",
    "    net.load_state_dict(torch.load(model_dir))\n",
    "    if torch.cuda.is_available():\n",
    "        net.cuda()\n",
    "    net.eval()\n",
    "\n",
    "    # --------- 4. inference for each image ---------\n",
    "    for i_test, data_test in enumerate(test_salobj_dataloader):\n",
    "\n",
    "        print(\"inferencing:\",img_name_list[i_test].split(os.sep)[-1])\n",
    "\n",
    "        inputs_test = data_test['image']\n",
    "        inputs_test = inputs_test.type(torch.FloatTensor)\n",
    "\n",
    "        if torch.cuda.is_available():\n",
    "            inputs_test = Variable(inputs_test.cuda())\n",
    "        else:\n",
    "            inputs_test = Variable(inputs_test)\n",
    "\n",
    "        d1,d2,d3,d4,d5,d6,d7= net(inputs_test)\n",
    "\n",
    "        # normalization\n",
    "        pred = d1[:,0,:,:]\n",
    "        pred = normPRED(pred)\n",
    "\n",
    "        # save results to test_results folder\n",
    "        if not os.path.exists(prediction_dir):\n",
    "            os.makedirs(prediction_dir, exist_ok=True)\n",
    "        save_output(img_name_list[i_test],pred,prediction_dir)\n",
    "\n",
    "        del d1,d2,d3,d4,d5,d6,d7"
   ]
  },
  {
   "cell_type": "code",
   "execution_count": 7,
   "metadata": {},
   "outputs": [
    {
     "name": "stdout",
     "output_type": "stream",
     "text": [
      "['In-kind_shooting/src/1.jpg', 'In-kind_shooting/src/2.jpg', 'In-kind_shooting/src/3.jpg', 'In-kind_shooting/src/4.jpg', 'In-kind_shooting/src/5.jpg', 'In-kind_shooting/src/6.jpg', 'In-kind_shooting/src/7.jpg', 'In-kind_shooting/src/8.jpg', 'In-kind_shooting/src/9.jpg', 'In-kind_shooting/src/10.jpg', 'In-kind_shooting/src/14.jpg', 'In-kind_shooting/src/15.jpg', 'In-kind_shooting/src/12.jpg', 'In-kind_shooting/src/13.jpg', 'In-kind_shooting/src/11.jpg']\n",
      "inferencing: 1.jpg\n",
      "inferencing: 2.jpg\n",
      "inferencing: 3.jpg\n",
      "inferencing: 4.jpg\n",
      "inferencing: 5.jpg\n",
      "inferencing: 6.jpg\n",
      "inferencing: 7.jpg\n",
      "inferencing: 8.jpg\n",
      "inferencing: 9.jpg\n",
      "inferencing: 10.jpg\n",
      "inferencing: 14.jpg\n",
      "inferencing: 15.jpg\n",
      "inferencing: 12.jpg\n",
      "inferencing: 13.jpg\n",
      "inferencing: 11.jpg\n"
     ]
    }
   ],
   "source": [
    "if __name__ == \"__main__\":\n",
    "    main()"
   ]
  },
  {
   "cell_type": "code",
   "execution_count": null,
   "metadata": {},
   "outputs": [],
   "source": []
  }
 ],
 "metadata": {
  "kernelspec": {
   "display_name": "myconda",
   "language": "python",
   "name": "myconda"
  },
  "language_info": {
   "codemirror_mode": {
    "name": "ipython",
    "version": 3
   },
   "file_extension": ".py",
   "mimetype": "text/x-python",
   "name": "python",
   "nbconvert_exporter": "python",
   "pygments_lexer": "ipython3",
   "version": "3.8.5"
  }
 },
 "nbformat": 4,
 "nbformat_minor": 4
}
