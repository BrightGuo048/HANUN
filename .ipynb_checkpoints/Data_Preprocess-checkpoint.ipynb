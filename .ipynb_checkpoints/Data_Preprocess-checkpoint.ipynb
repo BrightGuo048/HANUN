{
 "cells": [
  {
   "cell_type": "markdown",
   "metadata": {},
   "source": [
    "# 修改扩展名"
   ]
  },
  {
   "cell_type": "code",
   "execution_count": null,
   "metadata": {},
   "outputs": [],
   "source": [
    "import os\n",
    "\n",
    "root_path = \"/mnt/CUHK\"\n",
    "gt_path = os.path.join(root_path,\"GT\")\n",
    "src_path = os.path.join(root_path,\"image\")\n",
    "\n",
    "for file in os.listdir(gt_path):\n",
    "    if(file[-3:] == \"PNG\"):\n",
    "        print(file)\n",
    "        os.rename(os.path.join(gt_path, file), os.path.join(gt_path, file[:-3]+'png'))\n",
    "\n",
    "for file in os.listdir(src_path):\n",
    "    if(file[-3:] == \"JPG\"):\n",
    "        print(file)\n",
    "        os.rename(os.path.join(src_path, file), os.path.join(src_path, file[:-3]+'jpg'))\n"
   ]
  },
  {
   "cell_type": "markdown",
   "metadata": {},
   "source": [
    "# 训练集/测试集划分"
   ]
  },
  {
   "cell_type": "code",
   "execution_count": null,
   "metadata": {},
   "outputs": [],
   "source": [
    "import os\n",
    "import random\n",
    "import shutil\n",
    "import cv2\n",
    "\n",
    "root_path = \"/mnt/CUHK\"\n",
    "gt_path = os.path.join(root_path,\"GT\")\n",
    "src_path = os.path.join(root_path,\"image\")\n",
    "\n",
    "train_gt_path = \"/mnt/DATA_512/Train/gt\"\n",
    "train_src_path = \"/mnt/DATA_512/Train/src\"\n",
    "\n",
    "test_gt_path = \"/mnt/DATA_512/Test/gt\"\n",
    "test_src_path = \"/mnt/DATA_512/Test/src\"\n",
    "\n",
    "name_list = []\n",
    "\n",
    "for file in os.listdir(gt_path):\n",
    "    if(file[0] == '.'):\n",
    "        continue\n",
    "    name = file[:-4]\n",
    "    name_list.append(name)\n",
    "    \n",
    "random.shuffle(name_list)\n",
    "\n",
    "train_num = int(len(name_list)*0.8)\n",
    "test_num = len(name_list) - train_num\n",
    "\n",
    "for i in range(1, len(name_list)+1):\n",
    "    if(i <= train_num):\n",
    "        tar_gt_path = os.path.join(train_gt_path, name_list[i-1] + '.png')\n",
    "        tar_src_path = os.path.join(train_src_path, name_list[i-1] + '.jpg')\n",
    "\n",
    "    else:\n",
    "        tar_gt_path = os.path.join(test_gt_path, name_list[i-1] + '.png')\n",
    "        tar_src_path = os.path.join(test_src_path, name_list[i-1] + '.jpg')\n",
    "    \n",
    "    gt_img = cv2.imread(os.path.join(gt_path, name_list[i-1] + '.png'))\n",
    "    #gt_img = cv2.resize(gt_img,(256,256))\n",
    "    gt_img = cv2.resize(gt_img,(512,512))\n",
    "    cv2.imwrite(tar_gt_path, gt_img)\n",
    "    \n",
    "    src_img = cv2.imread(os.path.join(src_path, name_list[i-1] + '.jpg'))\n",
    "    #src_img = cv2.resize(src_img,(256,256))\n",
    "    src_img = cv2.resize(src_img,(512,512))\n",
    "    cv2.imwrite(tar_src_path, src_img)"
   ]
  },
  {
   "cell_type": "markdown",
   "metadata": {},
   "source": [
    "# 数据增强"
   ]
  },
  {
   "cell_type": "code",
   "execution_count": null,
   "metadata": {},
   "outputs": [],
   "source": [
    "from PIL import Image\n",
    "import os \n",
    "import glob \n",
    "\n",
    "def get_image_paths(folder,fmt): \n",
    "    return glob.glob(os.path.join(folder, fmt)) \n",
    "\n",
    "def create_read_img(filename,fmt): \n",
    "    #读取图像\n",
    "    im = Image.open(filename)\n",
    "\n",
    "    out_h = im.transpose(Image.FLIP_LEFT_RIGHT)\n",
    "    out_w = im.transpose(Image.FLIP_TOP_BOTTOM)\n",
    "    out_90 = im.transpose(Image.ROTATE_90)\n",
    "    out_180 = im.transpose(Image.ROTATE_180)\n",
    "    out_270 = im.transpose(Image.ROTATE_270)\n",
    "    \n",
    "    out_h.save(filename[:-4]+'_h.'+fmt)\n",
    "    out_w.save(filename[:-4]+'_w.'+fmt)\n",
    "    out_90.save(filename[:-4]+'_90.'+fmt)\n",
    "    out_180.save(filename[:-4]+'_180.'+fmt)\n",
    "    out_270.save(filename[:-4]+'_270.'+fmt)\n",
    "    #print(filename)\n",
    "    \n",
    "img_path_gt = '/mnt/DATA_512/Train/gt/' \n",
    "imgs_gt = get_image_paths(img_path_gt,'*.png') \n",
    "\n",
    "for i in imgs_gt: \n",
    "    create_read_img(i,'png')\n",
    "\n",
    "img_path_src = '/mnt/DATA_512/Train/src/'\n",
    "imgs_src = get_image_paths(img_path_src,'*.jpg')\n",
    "\n",
    "for i in imgs_src: \n",
    "    create_read_img(i,'jpg')"
   ]
  },
  {
   "cell_type": "code",
   "execution_count": null,
   "metadata": {},
   "outputs": [],
   "source": []
  }
 ],
 "metadata": {
  "kernelspec": {
   "display_name": "myconda",
   "language": "python",
   "name": "myconda"
  },
  "language_info": {
   "codemirror_mode": {
    "name": "ipython",
    "version": 3
   },
   "file_extension": ".py",
   "mimetype": "text/x-python",
   "name": "python",
   "nbconvert_exporter": "python",
   "pygments_lexer": "ipython3",
   "version": "3.8.5"
  }
 },
 "nbformat": 4,
 "nbformat_minor": 5
}
